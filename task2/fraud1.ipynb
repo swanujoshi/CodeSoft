{
 "cells": [
  {
   "cell_type": "code",
   "execution_count": 1,
   "metadata": {},
   "outputs": [],
   "source": [
    "import pandas as pd\n",
    "import numpy as np\n",
    "import matplotlib.pyplot as plt\n",
    "from datetime import datetime\n",
    "\n"
   ]
  },
  {
   "cell_type": "code",
   "execution_count": 2,
   "metadata": {},
   "outputs": [
    {
     "data": {
      "text/plain": [
       "Unnamed: 0                 Int64\n",
       "trans_date_trans_time     string\n",
       "cc_num                     Int64\n",
       "merchant                  string\n",
       "category                  string\n",
       "amt                      Float64\n",
       "first                     string\n",
       "last                      string\n",
       "gender                    string\n",
       "street                    string\n",
       "city                      string\n",
       "state                     string\n",
       "zip                        Int64\n",
       "lat                      Float64\n",
       "long                     Float64\n",
       "city_pop                   Int64\n",
       "job                       string\n",
       "dob                       string\n",
       "trans_num                 string\n",
       "unix_time                  Int64\n",
       "merch_lat                Float64\n",
       "merch_long               Float64\n",
       "is_fraud                   Int64\n",
       "dtype: object"
      ]
     },
     "execution_count": 2,
     "metadata": {},
     "output_type": "execute_result"
    }
   ],
   "source": [
    "df = pd.read_csv('fraudTest.csv')\n",
    "\n",
    "newdata= df.convert_dtypes()\n",
    "# df\n",
    "# newdata.astype()\n",
    "newdata.dtypes\n"
   ]
  },
  {
   "cell_type": "code",
   "execution_count": 3,
   "metadata": {},
   "outputs": [
    {
     "name": "stdout",
     "output_type": "stream",
     "text": [
      "2020-06-21\n",
      "12:14:33\n",
      "121433\n"
     ]
    }
   ],
   "source": [
    "new_date = newdata['trans_date_trans_time']\n",
    "date = []\n",
    "time = []\n",
    "time_str = []\n",
    "for i in range(len(new_date)):\n",
    "    string = new_date.loc[i]\n",
    "    datetime_obj = datetime.strptime(string,\n",
    "                                 \"%Y-%m-%d %H:%M:%S\")\n",
    "    date.append(datetime_obj.date())\n",
    "    time.append(datetime_obj.time())\n",
    "    string1= str(datetime_obj.time())\n",
    "    string1 = string1.replace(\":\",\"\")\n",
    "    time_str.append(int(string1))\n",
    "    \n",
    "\n",
    "\n",
    "\n",
    "\n",
    "print(date[1])\n",
    "print(time[1])\n",
    "print(time_str[1])\n",
    "\n",
    "\n",
    "\n"
   ]
  },
  {
   "cell_type": "code",
   "execution_count": 4,
   "metadata": {},
   "outputs": [
    {
     "name": "stderr",
     "output_type": "stream",
     "text": [
      "C:\\Users\\bprat\\AppData\\Local\\Temp\\ipykernel_11924\\942901810.py:8: FutureWarning: Passing a set as an indexer is deprecated and will raise in a future version. Use a list instead.\n",
      "  df_combine = pd.concat((df_time_str,newdata[{'is_fraud'}]),axis=1)\n",
      "C:\\Users\\bprat\\AppData\\Local\\Temp\\ipykernel_11924\\942901810.py:17: FutureWarning: Passing a set as an indexer is deprecated and will raise in a future version. Use a list instead.\n",
      "  df_combine2 = df_combine[{'Time'}]\n"
     ]
    },
    {
     "data": {
      "text/html": [
       "<div>\n",
       "<style scoped>\n",
       "    .dataframe tbody tr th:only-of-type {\n",
       "        vertical-align: middle;\n",
       "    }\n",
       "\n",
       "    .dataframe tbody tr th {\n",
       "        vertical-align: top;\n",
       "    }\n",
       "\n",
       "    .dataframe thead th {\n",
       "        text-align: right;\n",
       "    }\n",
       "</style>\n",
       "<table border=\"1\" class=\"dataframe\">\n",
       "  <thead>\n",
       "    <tr style=\"text-align: right;\">\n",
       "      <th></th>\n",
       "      <th>Time</th>\n",
       "      <th>is_fraud</th>\n",
       "    </tr>\n",
       "  </thead>\n",
       "  <tbody>\n",
       "    <tr>\n",
       "      <th>0</th>\n",
       "      <td>134808</td>\n",
       "      <td>0</td>\n",
       "    </tr>\n",
       "    <tr>\n",
       "      <th>1</th>\n",
       "      <td>230357</td>\n",
       "      <td>1</td>\n",
       "    </tr>\n",
       "    <tr>\n",
       "      <th>2</th>\n",
       "      <td>2108</td>\n",
       "      <td>1</td>\n",
       "    </tr>\n",
       "    <tr>\n",
       "      <th>3</th>\n",
       "      <td>224253</td>\n",
       "      <td>1</td>\n",
       "    </tr>\n",
       "    <tr>\n",
       "      <th>4</th>\n",
       "      <td>231815</td>\n",
       "      <td>1</td>\n",
       "    </tr>\n",
       "    <tr>\n",
       "      <th>...</th>\n",
       "      <td>...</td>\n",
       "      <td>...</td>\n",
       "    </tr>\n",
       "    <tr>\n",
       "      <th>4285</th>\n",
       "      <td>163340</td>\n",
       "      <td>0</td>\n",
       "    </tr>\n",
       "    <tr>\n",
       "      <th>4286</th>\n",
       "      <td>222307</td>\n",
       "      <td>1</td>\n",
       "    </tr>\n",
       "    <tr>\n",
       "      <th>4287</th>\n",
       "      <td>222633</td>\n",
       "      <td>1</td>\n",
       "    </tr>\n",
       "    <tr>\n",
       "      <th>4288</th>\n",
       "      <td>32030</td>\n",
       "      <td>1</td>\n",
       "    </tr>\n",
       "    <tr>\n",
       "      <th>4289</th>\n",
       "      <td>233002</td>\n",
       "      <td>0</td>\n",
       "    </tr>\n",
       "  </tbody>\n",
       "</table>\n",
       "<p>4290 rows × 2 columns</p>\n",
       "</div>"
      ],
      "text/plain": [
       "        Time  is_fraud\n",
       "0     134808         0\n",
       "1     230357         1\n",
       "2       2108         1\n",
       "3     224253         1\n",
       "4     231815         1\n",
       "...      ...       ...\n",
       "4285  163340         0\n",
       "4286  222307         1\n",
       "4287  222633         1\n",
       "4288   32030         1\n",
       "4289  233002         0\n",
       "\n",
       "[4290 rows x 2 columns]"
      ]
     },
     "execution_count": 4,
     "metadata": {},
     "output_type": "execute_result"
    }
   ],
   "source": [
    "df_date = pd.DataFrame(date)\n",
    "df_date.columns=['Date']\n",
    "df_time = pd.DataFrame(time)\n",
    "df_time.columns=['Time']\n",
    "df_time_str = pd.DataFrame(time_str)\n",
    "df_time_str.columns=['Time']\n",
    "# df_combine = pd.concat((df_time_str,newdata[{'lat','long','is_fraud'}]),axis=1)\n",
    "df_combine = pd.concat((df_time_str,newdata[{'is_fraud'}]),axis=1)\n",
    "df_combine0=df_combine[(df_combine['is_fraud'].values==0)]\n",
    "df_combine1= df_combine[(df_combine['is_fraud'].values==1)]\n",
    "df_combine=pd.concat((df_combine0.head(2145),df_combine1),axis=0)\n",
    "\n",
    "df_combine=df_combine.sample(frac=1)\n",
    "df_combine= df_combine.reset_index()\n",
    "df_combine = df_combine.drop(columns=['index'])\n",
    "# df_combine2 = df_combine[{'lat','long','Time'}]\n",
    "df_combine2 = df_combine[{'Time'}]\n",
    "df_combine"
   ]
  },
  {
   "cell_type": "code",
   "execution_count": 5,
   "metadata": {},
   "outputs": [],
   "source": [
    "from sklearn.linear_model import LogisticRegression\n",
    "from sklearn.model_selection import train_test_split\n",
    "from sklearn.ensemble import RandomForestClassifier \n",
    "from sklearn.metrics import accuracy_score\n",
    "\n",
    "lr = LogisticRegression()\n",
    "rfc= RandomForestClassifier()\n",
    "\n",
    "X_train,X_test,Y_train,Y_test=train_test_split(df_combine2,df_combine['is_fraud'],random_state=42,test_size=0.2)\n",
    "\n"
   ]
  },
  {
   "cell_type": "code",
   "execution_count": 6,
   "metadata": {},
   "outputs": [
    {
     "data": {
      "text/html": [
       "<div>\n",
       "<style scoped>\n",
       "    .dataframe tbody tr th:only-of-type {\n",
       "        vertical-align: middle;\n",
       "    }\n",
       "\n",
       "    .dataframe tbody tr th {\n",
       "        vertical-align: top;\n",
       "    }\n",
       "\n",
       "    .dataframe thead th {\n",
       "        text-align: right;\n",
       "    }\n",
       "</style>\n",
       "<table border=\"1\" class=\"dataframe\">\n",
       "  <thead>\n",
       "    <tr style=\"text-align: right;\">\n",
       "      <th></th>\n",
       "      <th>Time</th>\n",
       "      <th>is_fraud</th>\n",
       "    </tr>\n",
       "  </thead>\n",
       "  <tbody>\n",
       "    <tr>\n",
       "      <th>0</th>\n",
       "      <td>134808</td>\n",
       "      <td>0</td>\n",
       "    </tr>\n",
       "    <tr>\n",
       "      <th>1</th>\n",
       "      <td>230357</td>\n",
       "      <td>1</td>\n",
       "    </tr>\n",
       "    <tr>\n",
       "      <th>2</th>\n",
       "      <td>2108</td>\n",
       "      <td>1</td>\n",
       "    </tr>\n",
       "    <tr>\n",
       "      <th>3</th>\n",
       "      <td>224253</td>\n",
       "      <td>1</td>\n",
       "    </tr>\n",
       "    <tr>\n",
       "      <th>4</th>\n",
       "      <td>231815</td>\n",
       "      <td>1</td>\n",
       "    </tr>\n",
       "    <tr>\n",
       "      <th>...</th>\n",
       "      <td>...</td>\n",
       "      <td>...</td>\n",
       "    </tr>\n",
       "    <tr>\n",
       "      <th>4285</th>\n",
       "      <td>163340</td>\n",
       "      <td>0</td>\n",
       "    </tr>\n",
       "    <tr>\n",
       "      <th>4286</th>\n",
       "      <td>222307</td>\n",
       "      <td>1</td>\n",
       "    </tr>\n",
       "    <tr>\n",
       "      <th>4287</th>\n",
       "      <td>222633</td>\n",
       "      <td>1</td>\n",
       "    </tr>\n",
       "    <tr>\n",
       "      <th>4288</th>\n",
       "      <td>32030</td>\n",
       "      <td>1</td>\n",
       "    </tr>\n",
       "    <tr>\n",
       "      <th>4289</th>\n",
       "      <td>233002</td>\n",
       "      <td>0</td>\n",
       "    </tr>\n",
       "  </tbody>\n",
       "</table>\n",
       "<p>4290 rows × 2 columns</p>\n",
       "</div>"
      ],
      "text/plain": [
       "        Time  is_fraud\n",
       "0     134808         0\n",
       "1     230357         1\n",
       "2       2108         1\n",
       "3     224253         1\n",
       "4     231815         1\n",
       "...      ...       ...\n",
       "4285  163340         0\n",
       "4286  222307         1\n",
       "4287  222633         1\n",
       "4288   32030         1\n",
       "4289  233002         0\n",
       "\n",
       "[4290 rows x 2 columns]"
      ]
     },
     "execution_count": 6,
     "metadata": {},
     "output_type": "execute_result"
    }
   ],
   "source": [
    "\n",
    "result = lr.fit(X_train,Y_train)\n",
    "result1 = rfc.fit(X_train,Y_train)\n",
    "df_combine"
   ]
  },
  {
   "cell_type": "code",
   "execution_count": 7,
   "metadata": {},
   "outputs": [
    {
     "name": "stdout",
     "output_type": "stream",
     "text": [
      "accuracy is : 50.815850815850816\n",
      "accuracy is : 73.31002331002331\n"
     ]
    }
   ],
   "source": [
    "y_pred= result.predict(X_test)\n",
    "print(\"accuracy is :\",accuracy_score(Y_test,y_pred)*100)\n",
    "y_pred1= result1.predict(X_test)\n",
    "print(\"accuracy is :\",accuracy_score(Y_test,y_pred1)*100)\n"
   ]
  },
  {
   "cell_type": "code",
   "execution_count": 8,
   "metadata": {},
   "outputs": [],
   "source": [
    "\n",
    "df_combine5 = df_combine[(df_combine['is_fraud'].values==1)]\n"
   ]
  },
  {
   "cell_type": "code",
   "execution_count": 9,
   "metadata": {},
   "outputs": [
    {
     "name": "stdout",
     "output_type": "stream",
     "text": [
      "accuracy is : 0.0\n",
      "accuracy is : 93.51981351981352\n"
     ]
    },
    {
     "name": "stderr",
     "output_type": "stream",
     "text": [
      "C:\\Users\\bprat\\AppData\\Local\\Temp\\ipykernel_11924\\4229705378.py:1: FutureWarning: Passing a set as an indexer is deprecated and will raise in a future version. Use a list instead.\n",
      "  y_pred= result.predict(df_combine5[{'Time'}])\n",
      "C:\\Users\\bprat\\AppData\\Local\\Temp\\ipykernel_11924\\4229705378.py:6: FutureWarning: Passing a set as an indexer is deprecated and will raise in a future version. Use a list instead.\n",
      "  y_pred= result1.predict(df_combine5[{'Time'}])\n"
     ]
    }
   ],
   "source": [
    "y_pred= result.predict(df_combine5[{'Time'}])\n",
    "# y_pred= result.predict(df_combine5[{'Time','lat','long'}])\n",
    "print(\"accuracy is :\",accuracy_score(df_combine5['is_fraud'],y_pred)*100)\n",
    "\n",
    "# print(df_combine.head(10))\n",
    "y_pred= result1.predict(df_combine5[{'Time'}])\n",
    "# y_pred= result1.predict(df_combine5[{'Time','lat','long'}])\n",
    "print(\"accuracy is :\",accuracy_score(df_combine5['is_fraud'],y_pred)*100)"
   ]
  },
  {
   "cell_type": "code",
   "execution_count": 10,
   "metadata": {},
   "outputs": [
    {
     "name": "stderr",
     "output_type": "stream",
     "text": [
      "c:\\Users\\bprat\\OneDrive\\Desktop\\python\\python\\lib\\site-packages\\numba\\core\\decorators.py:262: NumbaDeprecationWarning: \u001b[1mnumba.generated_jit is deprecated. Please see the documentation at: https://numba.readthedocs.io/en/stable/reference/deprecation.html#deprecation-of-generated-jit for more information and advice on a suitable replacement.\u001b[0m\n",
      "  warnings.warn(msg, NumbaDeprecationWarning)\n",
      "c:\\Users\\bprat\\OneDrive\\Desktop\\python\\python\\lib\\site-packages\\visions\\backends\\shared\\nan_handling.py:51: NumbaDeprecationWarning: \u001b[1mThe 'nopython' keyword argument was not supplied to the 'numba.jit' decorator. The implicit default value for this argument is currently False, but it will be changed to True in Numba 0.59.0. See https://numba.readthedocs.io/en/stable/reference/deprecation.html#deprecation-of-object-mode-fall-back-behaviour-when-using-jit for details.\u001b[0m\n",
      "  def hasna(x: np.ndarray) -> bool:\n",
      "C:\\Users\\bprat\\AppData\\Local\\Temp\\ipykernel_11924\\749716230.py:1: DeprecationWarning: `import pandas_profiling` is going to be deprecated by April 1st. Please use `import ydata_profiling` instead.\n",
      "  import pandas_profiling as pp\n"
     ]
    },
    {
     "data": {
      "application/vnd.jupyter.widget-view+json": {
       "model_id": "f924d769a4d647f7a8cbe7b0a2d3325d",
       "version_major": 2,
       "version_minor": 0
      },
      "text/plain": [
       "Summarize dataset:   0%|          | 0/5 [00:00<?, ?it/s]"
      ]
     },
     "metadata": {},
     "output_type": "display_data"
    },
    {
     "data": {
      "application/vnd.jupyter.widget-view+json": {
       "model_id": "bb8d65e3b4514efebc2b7de8e030bd5f",
       "version_major": 2,
       "version_minor": 0
      },
      "text/plain": [
       "Generate report structure:   0%|          | 0/1 [00:00<?, ?it/s]"
      ]
     },
     "metadata": {},
     "output_type": "display_data"
    },
    {
     "data": {
      "application/vnd.jupyter.widget-view+json": {
       "model_id": "68b187f585834bcabbc7b85bf7e0a9e9",
       "version_major": 2,
       "version_minor": 0
      },
      "text/plain": [
       "Render HTML:   0%|          | 0/1 [00:00<?, ?it/s]"
      ]
     },
     "metadata": {},
     "output_type": "display_data"
    },
    {
     "data": {
      "application/vnd.jupyter.widget-view+json": {
       "model_id": "ad63ed1e25234f1f956106461d3fb28e",
       "version_major": 2,
       "version_minor": 0
      },
      "text/plain": [
       "Export report to file:   0%|          | 0/1 [00:00<?, ?it/s]"
      ]
     },
     "metadata": {},
     "output_type": "display_data"
    }
   ],
   "source": [
    "import pandas_profiling as pp\n",
    "profile = pp.ProfileReport(df_combine)\n",
    "result = profile.to_file('half.html')"
   ]
  }
 ],
 "metadata": {
  "kernelspec": {
   "display_name": "Python 3",
   "language": "python",
   "name": "python3"
  },
  "language_info": {
   "codemirror_mode": {
    "name": "ipython",
    "version": 3
   },
   "file_extension": ".py",
   "mimetype": "text/x-python",
   "name": "python",
   "nbconvert_exporter": "python",
   "pygments_lexer": "ipython3",
   "version": "3.10.5"
  },
  "orig_nbformat": 4
 },
 "nbformat": 4,
 "nbformat_minor": 2
}
