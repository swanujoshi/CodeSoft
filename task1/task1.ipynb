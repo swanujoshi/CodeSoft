{
 "cells": [
  {
   "cell_type": "code",
   "execution_count": 1,
   "metadata": {},
   "outputs": [],
   "source": [
    "import pandas as pd\n",
    "import numpy as np\n",
    "import matplotlib.pyplot as plt\n",
    "import seaborn as sns\n",
    "from sklearn.naive_bayes import GaussianNB"
   ]
  },
  {
   "cell_type": "code",
   "execution_count": 2,
   "metadata": {},
   "outputs": [
    {
     "name": "stderr",
     "output_type": "stream",
     "text": [
      "C:\\Users\\bprat\\AppData\\Local\\Temp\\ipykernel_7932\\2146927378.py:1: ParserWarning: Falling back to the 'python' engine because the 'c' engine does not support regex separators (separators > 1 char and different from '\\s+' are interpreted as regex); you can avoid this warning by specifying engine='python'.\n",
      "  df = pd.read_csv('train_data.txt',delimiter=\":::\")\n"
     ]
    }
   ],
   "source": [
    "df = pd.read_csv('train_data.txt',delimiter=\":::\")\n",
    "df=df.to_csv('train.csv',index=None)"
   ]
  },
  {
   "cell_type": "code",
   "execution_count": 3,
   "metadata": {},
   "outputs": [
    {
     "data": {
      "text/html": [
       "<div>\n",
       "<style scoped>\n",
       "    .dataframe tbody tr th:only-of-type {\n",
       "        vertical-align: middle;\n",
       "    }\n",
       "\n",
       "    .dataframe tbody tr th {\n",
       "        vertical-align: top;\n",
       "    }\n",
       "\n",
       "    .dataframe thead th {\n",
       "        text-align: right;\n",
       "    }\n",
       "</style>\n",
       "<table border=\"1\" class=\"dataframe\">\n",
       "  <thead>\n",
       "    <tr style=\"text-align: right;\">\n",
       "      <th></th>\n",
       "      <th>1</th>\n",
       "      <th>Oscar et la dame rose (2009)</th>\n",
       "      <th>drama</th>\n",
       "      <th>Listening in to a conversation between his doctor and parents, 10-year-old Oscar learns what nobody has the courage to tell him. He only has a few weeks to live. Furious, he refuses to speak to anyone except straight-talking Rose, the lady in pink he meets on the hospital stairs. As Christmas approaches, Rose uses her fantastical experiences as a professional wrestler, her imagination, wit and charm to allow Oscar to live life and love to the full, in the company of his friends Pop Corn, Einstein, Bacon and childhood sweetheart Peggy Blue.</th>\n",
       "    </tr>\n",
       "  </thead>\n",
       "  <tbody>\n",
       "    <tr>\n",
       "      <th>0</th>\n",
       "      <td>2</td>\n",
       "      <td>Cupid (1997)</td>\n",
       "      <td>thriller</td>\n",
       "      <td>A brother and sister with a past incestuous r...</td>\n",
       "    </tr>\n",
       "    <tr>\n",
       "      <th>1</th>\n",
       "      <td>3</td>\n",
       "      <td>Young, Wild and Wonderful (1980)</td>\n",
       "      <td>adult</td>\n",
       "      <td>As the bus empties the students for their fie...</td>\n",
       "    </tr>\n",
       "    <tr>\n",
       "      <th>2</th>\n",
       "      <td>4</td>\n",
       "      <td>The Secret Sin (1915)</td>\n",
       "      <td>drama</td>\n",
       "      <td>To help their unemployed father make ends mee...</td>\n",
       "    </tr>\n",
       "    <tr>\n",
       "      <th>3</th>\n",
       "      <td>5</td>\n",
       "      <td>The Unrecovered (2007)</td>\n",
       "      <td>drama</td>\n",
       "      <td>The film's title refers not only to the un-re...</td>\n",
       "    </tr>\n",
       "    <tr>\n",
       "      <th>4</th>\n",
       "      <td>6</td>\n",
       "      <td>Quality Control (2011)</td>\n",
       "      <td>documentary</td>\n",
       "      <td>Quality Control consists of a series of 16mm ...</td>\n",
       "    </tr>\n",
       "  </tbody>\n",
       "</table>\n",
       "</div>"
      ],
      "text/plain": [
       "   1        Oscar et la dame rose (2009)          drama   \\\n",
       "0   2                       Cupid (1997)       thriller    \n",
       "1   3   Young, Wild and Wonderful (1980)          adult    \n",
       "2   4              The Secret Sin (1915)          drama    \n",
       "3   5             The Unrecovered (2007)          drama    \n",
       "4   6             Quality Control (2011)    documentary    \n",
       "\n",
       "   Listening in to a conversation between his doctor and parents, 10-year-old Oscar learns what nobody has the courage to tell him. He only has a few weeks to live. Furious, he refuses to speak to anyone except straight-talking Rose, the lady in pink he meets on the hospital stairs. As Christmas approaches, Rose uses her fantastical experiences as a professional wrestler, her imagination, wit and charm to allow Oscar to live life and love to the full, in the company of his friends Pop Corn, Einstein, Bacon and childhood sweetheart Peggy Blue.  \n",
       "0   A brother and sister with a past incestuous r...                                                                                                                                                                                                                                                                                                                                                                                                                                                                                                                  \n",
       "1   As the bus empties the students for their fie...                                                                                                                                                                                                                                                                                                                                                                                                                                                                                                                  \n",
       "2   To help their unemployed father make ends mee...                                                                                                                                                                                                                                                                                                                                                                                                                                                                                                                  \n",
       "3   The film's title refers not only to the un-re...                                                                                                                                                                                                                                                                                                                                                                                                                                                                                                                  \n",
       "4   Quality Control consists of a series of 16mm ...                                                                                                                                                                                                                                                                                                                                                                                                                                                                                                                  "
      ]
     },
     "execution_count": 3,
     "metadata": {},
     "output_type": "execute_result"
    }
   ],
   "source": [
    "df= pd.read_csv('train.csv')\n",
    "df.head()"
   ]
  },
  {
   "cell_type": "code",
   "execution_count": 4,
   "metadata": {},
   "outputs": [
    {
     "data": {
      "text/html": [
       "<div>\n",
       "<style scoped>\n",
       "    .dataframe tbody tr th:only-of-type {\n",
       "        vertical-align: middle;\n",
       "    }\n",
       "\n",
       "    .dataframe tbody tr th {\n",
       "        vertical-align: top;\n",
       "    }\n",
       "\n",
       "    .dataframe thead th {\n",
       "        text-align: right;\n",
       "    }\n",
       "</style>\n",
       "<table border=\"1\" class=\"dataframe\">\n",
       "  <thead>\n",
       "    <tr style=\"text-align: right;\">\n",
       "      <th></th>\n",
       "      <th>TITLE</th>\n",
       "      <th>GENRE</th>\n",
       "      <th>DESCRIPTION</th>\n",
       "    </tr>\n",
       "  </thead>\n",
       "  <tbody>\n",
       "    <tr>\n",
       "      <th>0</th>\n",
       "      <td>Cupid (1997)</td>\n",
       "      <td>thriller</td>\n",
       "      <td>A brother and sister with a past incestuous r...</td>\n",
       "    </tr>\n",
       "    <tr>\n",
       "      <th>1</th>\n",
       "      <td>Young, Wild and Wonderful (1980)</td>\n",
       "      <td>adult</td>\n",
       "      <td>As the bus empties the students for their fie...</td>\n",
       "    </tr>\n",
       "    <tr>\n",
       "      <th>2</th>\n",
       "      <td>The Secret Sin (1915)</td>\n",
       "      <td>drama</td>\n",
       "      <td>To help their unemployed father make ends mee...</td>\n",
       "    </tr>\n",
       "    <tr>\n",
       "      <th>3</th>\n",
       "      <td>The Unrecovered (2007)</td>\n",
       "      <td>drama</td>\n",
       "      <td>The film's title refers not only to the un-re...</td>\n",
       "    </tr>\n",
       "    <tr>\n",
       "      <th>4</th>\n",
       "      <td>Quality Control (2011)</td>\n",
       "      <td>documentary</td>\n",
       "      <td>Quality Control consists of a series of 16mm ...</td>\n",
       "    </tr>\n",
       "    <tr>\n",
       "      <th>5</th>\n",
       "      <td>\"Pink Slip\" (2009)</td>\n",
       "      <td>comedy</td>\n",
       "      <td>In tough economic times Max and Joey have all...</td>\n",
       "    </tr>\n",
       "    <tr>\n",
       "      <th>6</th>\n",
       "      <td>One Step Away (1985)</td>\n",
       "      <td>crime</td>\n",
       "      <td>Ron Petrie (Keanu Reeves) is a troubled teen ...</td>\n",
       "    </tr>\n",
       "    <tr>\n",
       "      <th>7</th>\n",
       "      <td>\"Desperate Hours\" (2016)</td>\n",
       "      <td>reality-tv</td>\n",
       "      <td>A sudden calamitous event, causing great loss...</td>\n",
       "    </tr>\n",
       "    <tr>\n",
       "      <th>8</th>\n",
       "      <td>Spirits (2014/I)</td>\n",
       "      <td>horror</td>\n",
       "      <td>Four high school students embark on a terrify...</td>\n",
       "    </tr>\n",
       "    <tr>\n",
       "      <th>9</th>\n",
       "      <td>The Spirit World: Ghana (2016)</td>\n",
       "      <td>documentary</td>\n",
       "      <td>Tom Beacham explores Ghana with Director of P...</td>\n",
       "    </tr>\n",
       "  </tbody>\n",
       "</table>\n",
       "</div>"
      ],
      "text/plain": [
       "                                TITLE          GENRE  \\\n",
       "0                       Cupid (1997)       thriller    \n",
       "1   Young, Wild and Wonderful (1980)          adult    \n",
       "2              The Secret Sin (1915)          drama    \n",
       "3             The Unrecovered (2007)          drama    \n",
       "4             Quality Control (2011)    documentary    \n",
       "5                 \"Pink Slip\" (2009)         comedy    \n",
       "6               One Step Away (1985)          crime    \n",
       "7           \"Desperate Hours\" (2016)     reality-tv    \n",
       "8                   Spirits (2014/I)         horror    \n",
       "9     The Spirit World: Ghana (2016)    documentary    \n",
       "\n",
       "                                         DESCRIPTION  \n",
       "0   A brother and sister with a past incestuous r...  \n",
       "1   As the bus empties the students for their fie...  \n",
       "2   To help their unemployed father make ends mee...  \n",
       "3   The film's title refers not only to the un-re...  \n",
       "4   Quality Control consists of a series of 16mm ...  \n",
       "5   In tough economic times Max and Joey have all...  \n",
       "6   Ron Petrie (Keanu Reeves) is a troubled teen ...  \n",
       "7   A sudden calamitous event, causing great loss...  \n",
       "8   Four high school students embark on a terrify...  \n",
       "9   Tom Beacham explores Ghana with Director of P...  "
      ]
     },
     "execution_count": 4,
     "metadata": {},
     "output_type": "execute_result"
    }
   ],
   "source": [
    "# df.info()\n",
    "# df.describe()\n",
    "# df.isnull().sum()\n",
    "df.columns=['index','TITLE','GENRE','DESCRIPTION']\n",
    "df=df.drop(columns=['index'])\n",
    "df.head(10)\n"
   ]
  },
  {
   "cell_type": "code",
   "execution_count": 5,
   "metadata": {},
   "outputs": [],
   "source": [
    "from sklearn.feature_extraction.text import TfidfVectorizer"
   ]
  },
  {
   "cell_type": "code",
   "execution_count": 6,
   "metadata": {},
   "outputs": [],
   "source": [
    "# from nltk.corpus import stopwords\n",
    "# stopwords1= set(stopwords.words('english'))\n",
    "tf= tfidf2 = TfidfVectorizer(stop_words='english')\n",
    "\n",
    "result = tf.fit_transform(df['DESCRIPTION'])"
   ]
  },
  {
   "cell_type": "code",
   "execution_count": 7,
   "metadata": {},
   "outputs": [
    {
     "name": "stderr",
     "output_type": "stream",
     "text": [
      "c:\\Users\\bprat\\OneDrive\\Desktop\\python\\python\\lib\\site-packages\\sklearn\\linear_model\\_logistic.py:460: ConvergenceWarning: lbfgs failed to converge (status=1):\n",
      "STOP: TOTAL NO. of ITERATIONS REACHED LIMIT.\n",
      "\n",
      "Increase the number of iterations (max_iter) or scale the data as shown in:\n",
      "    https://scikit-learn.org/stable/modules/preprocessing.html\n",
      "Please also refer to the documentation for alternative solver options:\n",
      "    https://scikit-learn.org/stable/modules/linear_model.html#logistic-regression\n",
      "  n_iter_i = _check_optimize_result(\n"
     ]
    }
   ],
   "source": [
    "from sklearn.linear_model import LogisticRegression\n",
    "\n",
    "reg = LogisticRegression(max_iter=300,C=1.0)\n",
    "result1 = reg.fit(result,df['GENRE'])"
   ]
  },
  {
   "cell_type": "code",
   "execution_count": 8,
   "metadata": {},
   "outputs": [
    {
     "name": "stdout",
     "output_type": "stream",
     "text": [
      "accuraccy is train: 72.01409256082489\n"
     ]
    }
   ],
   "source": [
    "# result1\n",
    "y_pred = reg.predict(result)\n",
    "from sklearn.metrics import accuracy_score\n",
    "accuracy=accuracy_score(df['GENRE'],y_pred)\n",
    "print(\"accuraccy is train:\",accuracy*100)"
   ]
  },
  {
   "cell_type": "code",
   "execution_count": 9,
   "metadata": {},
   "outputs": [
    {
     "name": "stderr",
     "output_type": "stream",
     "text": [
      "C:\\Users\\bprat\\AppData\\Local\\Temp\\ipykernel_7932\\4179859211.py:3: ParserWarning: Falling back to the 'python' engine because the 'c' engine does not support regex separators (separators > 1 char and different from '\\s+' are interpreted as regex); you can avoid this warning by specifying engine='python'.\n",
      "  df_test = pd.read_csv('test_data.txt',delimiter=\":::\")\n"
     ]
    }
   ],
   "source": [
    "#compare solution\n",
    "#test_data\n",
    "df_test = pd.read_csv('test_data.txt',delimiter=\":::\")\n",
    "df_test=df_test.to_csv('test.csv',index=None)\n",
    "df_test= pd.read_csv('test.csv')\n",
    "df_test.columns=['index','TITLE','DESCRIPTION']\n",
    "df_test=df_test.drop(columns=['index'])\n",
    "result_test = tf.transform(df_test['DESCRIPTION'])\n",
    "\n"
   ]
  },
  {
   "cell_type": "code",
   "execution_count": 10,
   "metadata": {},
   "outputs": [
    {
     "name": "stdout",
     "output_type": "stream",
     "text": [
      "  (0, 118969)\t0.12169260554452785\n",
      "  (0, 117980)\t0.10269602093230025\n",
      "  (0, 116512)\t0.10189388089857927\n",
      "  (0, 116151)\t0.15764914386239692\n",
      "  (0, 108100)\t0.05893121999249114\n",
      "  (0, 101006)\t0.1058474354144406\n",
      "  (0, 100756)\t0.12372951905137368\n",
      "  (0, 98607)\t0.08844330354951715\n",
      "  (0, 98354)\t0.11807079831738182\n",
      "  (0, 89967)\t0.21378698737102464\n",
      "  (0, 89833)\t0.12681523217398663\n",
      "  (0, 89756)\t0.10531815089411524\n",
      "  (0, 89634)\t0.17435425247491518\n",
      "  (0, 86358)\t0.1090921454455745\n",
      "  (0, 84461)\t0.15173155658294318\n",
      "  (0, 84350)\t0.12199584170010908\n",
      "  (0, 83733)\t0.3058269528546453\n",
      "  (0, 83358)\t0.11822849856050781\n",
      "  (0, 79626)\t0.11865528115298081\n",
      "  (0, 78331)\t0.15384867130361468\n",
      "  (0, 76658)\t0.10567875874742426\n",
      "  (0, 76650)\t0.1907730718303285\n",
      "  (0, 73536)\t0.1610909773520096\n",
      "  (0, 73184)\t0.15231369489732907\n",
      "  (0, 71603)\t0.14449993238997189\n",
      "  :\t:\n",
      "  (54198, 63599)\t0.18698799780559208\n",
      "  (54198, 63435)\t0.09747505755428458\n",
      "  (54198, 62961)\t0.06492168346386011\n",
      "  (54198, 62430)\t0.09874499166689296\n",
      "  (54198, 52701)\t0.16158510939425516\n",
      "  (54198, 51867)\t0.1579975409102646\n",
      "  (54198, 48672)\t0.15461601775657355\n",
      "  (54198, 44426)\t0.08373210938249115\n",
      "  (54198, 40078)\t0.14355511990947173\n",
      "  (54198, 36716)\t0.10784454260075513\n",
      "  (54198, 35099)\t0.15393742812306083\n",
      "  (54198, 30298)\t0.15143537675750182\n",
      "  (54198, 29132)\t0.16026086071404635\n",
      "  (54198, 26571)\t0.12187208051838129\n",
      "  (54198, 25707)\t0.40500518192084195\n",
      "  (54198, 25202)\t0.106967072094769\n",
      "  (54198, 24433)\t0.17426421857416008\n",
      "  (54198, 23625)\t0.15604771442990842\n",
      "  (54198, 23205)\t0.14029826760100556\n",
      "  (54198, 22580)\t0.13637998294149065\n",
      "  (54198, 22061)\t0.14222379058559825\n",
      "  (54198, 21838)\t0.1888634304383657\n",
      "  (54198, 21712)\t0.16791295836162096\n",
      "  (54198, 20910)\t0.14716952920879164\n",
      "  (54198, 18049)\t0.12482920585695974\n"
     ]
    }
   ],
   "source": [
    "print(result_test)"
   ]
  },
  {
   "cell_type": "code",
   "execution_count": 11,
   "metadata": {},
   "outputs": [
    {
     "name": "stderr",
     "output_type": "stream",
     "text": [
      "C:\\Users\\bprat\\AppData\\Local\\Temp\\ipykernel_7932\\312373679.py:4: ParserWarning: Falling back to the 'python' engine because the 'c' engine does not support regex separators (separators > 1 char and different from '\\s+' are interpreted as regex); you can avoid this warning by specifying engine='python'.\n",
      "  df_test_solution = pd.read_csv('test_data_solution.txt',delimiter=\":::\")\n"
     ]
    },
    {
     "name": "stdout",
     "output_type": "stream",
     "text": [
      "accuracy is : 58.829498699237995\n"
     ]
    }
   ],
   "source": [
    "\n",
    "\n",
    "y_pred = result1.predict(result_test)\n",
    "# result_test.shape    // for train do fit_transform and for test do transform\n",
    "#compare \n",
    "df_test_solution = pd.read_csv('test_data_solution.txt',delimiter=\":::\")\n",
    "df_test_solution=df_test_solution.to_csv('test_solution.csv',index=None)\n",
    "df_test_solution= pd.read_csv('test_solution.csv')\n",
    "df_test_solution.columns=['index','TITLE','GENRE','DESCRIPTION']\n",
    "df_test_solution=df_test_solution.drop(columns=['index'])\n",
    "accuracy1 = accuracy_score(df_test_solution['GENRE'],y_pred)\n",
    "print(\"accuracy is :\",accuracy1*100)\n"
   ]
  },
  {
   "cell_type": "code",
   "execution_count": 12,
   "metadata": {},
   "outputs": [
    {
     "data": {
      "text/html": [
       "<div>\n",
       "<style scoped>\n",
       "    .dataframe tbody tr th:only-of-type {\n",
       "        vertical-align: middle;\n",
       "    }\n",
       "\n",
       "    .dataframe tbody tr th {\n",
       "        vertical-align: top;\n",
       "    }\n",
       "\n",
       "    .dataframe thead th {\n",
       "        text-align: right;\n",
       "    }\n",
       "</style>\n",
       "<table border=\"1\" class=\"dataframe\">\n",
       "  <thead>\n",
       "    <tr style=\"text-align: right;\">\n",
       "      <th></th>\n",
       "      <th>TITLE</th>\n",
       "      <th>DESCRIPTION</th>\n",
       "      <th>GENRE</th>\n",
       "    </tr>\n",
       "  </thead>\n",
       "  <tbody>\n",
       "    <tr>\n",
       "      <th>0</th>\n",
       "      <td>La guerra de papá (1977)</td>\n",
       "      <td>Spain, March 1964: Quico is a very naughty ch...</td>\n",
       "      <td>drama</td>\n",
       "    </tr>\n",
       "    <tr>\n",
       "      <th>1</th>\n",
       "      <td>Off the Beaten Track (2010)</td>\n",
       "      <td>One year in the life of Albin and his family ...</td>\n",
       "      <td>documentary</td>\n",
       "    </tr>\n",
       "    <tr>\n",
       "      <th>2</th>\n",
       "      <td>Meu Amigo Hindu (2015)</td>\n",
       "      <td>His father has died, he hasn't spoken with hi...</td>\n",
       "      <td>drama</td>\n",
       "    </tr>\n",
       "    <tr>\n",
       "      <th>3</th>\n",
       "      <td>Er nu zhai (1955)</td>\n",
       "      <td>Before he was known internationally as a mart...</td>\n",
       "      <td>drama</td>\n",
       "    </tr>\n",
       "    <tr>\n",
       "      <th>4</th>\n",
       "      <td>Riddle Room (2016)</td>\n",
       "      <td>Emily Burns is being held captive in a room w...</td>\n",
       "      <td>drama</td>\n",
       "    </tr>\n",
       "    <tr>\n",
       "      <th>...</th>\n",
       "      <td>...</td>\n",
       "      <td>...</td>\n",
       "      <td>...</td>\n",
       "    </tr>\n",
       "    <tr>\n",
       "      <th>54194</th>\n",
       "      <td>\"Tales of Light &amp; Dark\" (2013)</td>\n",
       "      <td>Covering multiple genres, Tales of Light &amp; Da...</td>\n",
       "      <td>drama</td>\n",
       "    </tr>\n",
       "    <tr>\n",
       "      <th>54195</th>\n",
       "      <td>Der letzte Mohikaner (1965)</td>\n",
       "      <td>As Alice and Cora Munro attempt to find their...</td>\n",
       "      <td>drama</td>\n",
       "    </tr>\n",
       "    <tr>\n",
       "      <th>54196</th>\n",
       "      <td>Oliver Twink (2007)</td>\n",
       "      <td>A movie 169 years in the making. Oliver Twist...</td>\n",
       "      <td>drama</td>\n",
       "    </tr>\n",
       "    <tr>\n",
       "      <th>54197</th>\n",
       "      <td>Slipstream (1973)</td>\n",
       "      <td>Popular, but mysterious rock D.J Mike Mallard...</td>\n",
       "      <td>drama</td>\n",
       "    </tr>\n",
       "    <tr>\n",
       "      <th>54198</th>\n",
       "      <td>Curitiba Zero Grau (2010)</td>\n",
       "      <td>Curitiba is a city in movement, with rhythms ...</td>\n",
       "      <td>documentary</td>\n",
       "    </tr>\n",
       "  </tbody>\n",
       "</table>\n",
       "<p>54199 rows × 3 columns</p>\n",
       "</div>"
      ],
      "text/plain": [
       "                                  TITLE  \\\n",
       "0             La guerra de papá (1977)    \n",
       "1          Off the Beaten Track (2010)    \n",
       "2               Meu Amigo Hindu (2015)    \n",
       "3                    Er nu zhai (1955)    \n",
       "4                   Riddle Room (2016)    \n",
       "...                                 ...   \n",
       "54194   \"Tales of Light & Dark\" (2013)    \n",
       "54195      Der letzte Mohikaner (1965)    \n",
       "54196              Oliver Twink (2007)    \n",
       "54197                Slipstream (1973)    \n",
       "54198        Curitiba Zero Grau (2010)    \n",
       "\n",
       "                                             DESCRIPTION          GENRE  \n",
       "0       Spain, March 1964: Quico is a very naughty ch...         drama   \n",
       "1       One year in the life of Albin and his family ...   documentary   \n",
       "2       His father has died, he hasn't spoken with hi...         drama   \n",
       "3       Before he was known internationally as a mart...         drama   \n",
       "4       Emily Burns is being held captive in a room w...         drama   \n",
       "...                                                  ...            ...  \n",
       "54194   Covering multiple genres, Tales of Light & Da...         drama   \n",
       "54195   As Alice and Cora Munro attempt to find their...         drama   \n",
       "54196   A movie 169 years in the making. Oliver Twist...         drama   \n",
       "54197   Popular, but mysterious rock D.J Mike Mallard...         drama   \n",
       "54198   Curitiba is a city in movement, with rhythms ...   documentary   \n",
       "\n",
       "[54199 rows x 3 columns]"
      ]
     },
     "execution_count": 12,
     "metadata": {},
     "output_type": "execute_result"
    }
   ],
   "source": [
    "#my solution\n",
    "# y_pred.shape\n",
    "solution = pd.DataFrame(y_pred)\n",
    "df = pd.concat([df_test,solution],axis=1)\n",
    "df.columns=['TITLE','DESCRIPTION','GENRE']\n",
    "df\n",
    "# df_test"
   ]
  },
  {
   "cell_type": "code",
   "execution_count": 13,
   "metadata": {},
   "outputs": [
    {
     "name": "stderr",
     "output_type": "stream",
     "text": [
      "c:\\Users\\bprat\\OneDrive\\Desktop\\python\\python\\lib\\site-packages\\numba\\core\\decorators.py:262: NumbaDeprecationWarning: \u001b[1mnumba.generated_jit is deprecated. Please see the documentation at: https://numba.readthedocs.io/en/stable/reference/deprecation.html#deprecation-of-generated-jit for more information and advice on a suitable replacement.\u001b[0m\n",
      "  warnings.warn(msg, NumbaDeprecationWarning)\n",
      "c:\\Users\\bprat\\OneDrive\\Desktop\\python\\python\\lib\\site-packages\\visions\\backends\\shared\\nan_handling.py:51: NumbaDeprecationWarning: \u001b[1mThe 'nopython' keyword argument was not supplied to the 'numba.jit' decorator. The implicit default value for this argument is currently False, but it will be changed to True in Numba 0.59.0. See https://numba.readthedocs.io/en/stable/reference/deprecation.html#deprecation-of-object-mode-fall-back-behaviour-when-using-jit for details.\u001b[0m\n",
      "  def hasna(x: np.ndarray) -> bool:\n",
      "C:\\Users\\bprat\\AppData\\Local\\Temp\\ipykernel_7932\\432975453.py:1: DeprecationWarning: `import pandas_profiling` is going to be deprecated by April 1st. Please use `import ydata_profiling` instead.\n",
      "  import pandas_profiling as pp\n"
     ]
    },
    {
     "data": {
      "application/vnd.jupyter.widget-view+json": {
       "model_id": "bbac6873b19f49c0a1b89325f05c8480",
       "version_major": 2,
       "version_minor": 0
      },
      "text/plain": [
       "Summarize dataset:   0%|          | 0/5 [00:00<?, ?it/s]"
      ]
     },
     "metadata": {},
     "output_type": "display_data"
    },
    {
     "data": {
      "application/vnd.jupyter.widget-view+json": {
       "model_id": "dff359662a124956b4dd0a438f8249cd",
       "version_major": 2,
       "version_minor": 0
      },
      "text/plain": [
       "Generate report structure:   0%|          | 0/1 [00:00<?, ?it/s]"
      ]
     },
     "metadata": {},
     "output_type": "display_data"
    },
    {
     "data": {
      "application/vnd.jupyter.widget-view+json": {
       "model_id": "32c266fbcd944f4187f602bdb20edfe9",
       "version_major": 2,
       "version_minor": 0
      },
      "text/plain": [
       "Render HTML:   0%|          | 0/1 [00:00<?, ?it/s]"
      ]
     },
     "metadata": {},
     "output_type": "display_data"
    },
    {
     "data": {
      "application/vnd.jupyter.widget-view+json": {
       "model_id": "6e4a20fb6917417ea323e7d0af71a75f",
       "version_major": 2,
       "version_minor": 0
      },
      "text/plain": [
       "Export report to file:   0%|          | 0/1 [00:00<?, ?it/s]"
      ]
     },
     "metadata": {},
     "output_type": "display_data"
    }
   ],
   "source": [
    "import pandas_profiling as pp\n",
    "profile = pp.ProfileReport(df)\n",
    "result = profile.to_file('solution.html') "
   ]
  }
 ],
 "metadata": {
  "kernelspec": {
   "display_name": "Python 3",
   "language": "python",
   "name": "python3"
  },
  "language_info": {
   "codemirror_mode": {
    "name": "ipython",
    "version": 3
   },
   "file_extension": ".py",
   "mimetype": "text/x-python",
   "name": "python",
   "nbconvert_exporter": "python",
   "pygments_lexer": "ipython3",
   "version": "3.10.5"
  },
  "orig_nbformat": 4
 },
 "nbformat": 4,
 "nbformat_minor": 2
}
